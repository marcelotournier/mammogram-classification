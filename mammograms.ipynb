{
 "cells": [
  {
   "cell_type": "markdown",
   "metadata": {},
   "source": [
    "# Computer Vision Project\n",
    "### Predicting Mammogram results\n",
    "- This is a didactic project to showcase some basic principles in Computer Vision and image pre-processing\n",
    "- We are using images from the *Mini-MIAS database of mammograms* \n",
    "- Objective: Build the simplest and most effective classificator of mammograms, without using a neural network approach"
   ]
  },
  {
   "cell_type": "code",
   "execution_count": 1,
   "metadata": {},
   "outputs": [],
   "source": [
    "import numpy as np\n",
    "import pandas as pd\n",
    "from imageio import imread\n",
    "from skimage import data\n",
    "import matplotlib.pyplot as plt\n",
    "import os\n",
    "from skimage.transform import resize\n",
    "\n",
    "\n",
    "#loading image\n",
    "#carregando o arquivo\n",
    "photo_data = imread(\"./images/mdb001.pgm\")\n",
    "im = np.array(photo_data) #[:,:,0])"
   ]
  },
  {
   "cell_type": "code",
   "execution_count": 2,
   "metadata": {},
   "outputs": [
    {
     "data": {
      "image/png": "[encoded data removed]",
      "text/plain": [
       "<Figure size 432x288 with 1 Axes>"
      ]
     },
     "metadata": {},
     "output_type": "display_data"
    },
    {
     "name": "stdout",
     "output_type": "stream",
     "text": [
      "(100, 100)\n"
     ]
    }
   ],
   "source": [
    "im = resize(im,(100,100),mode='reflect')\n",
    "plt.imshow(im)\n",
    "plt.show()\n",
    "print(im.shape)"
   ]
  },
  {
   "cell_type": "code",
   "execution_count": 3,
   "metadata": {},
   "outputs": [
    {
     "data": {
      "text/plain": [
       "array([[ 0.,  0.,  0., ...,  0.,  0.,  0.],\n",
       "       [ 0.,  0.,  0., ...,  0.,  0.,  0.],\n",
       "       [ 0.,  0.,  0., ...,  0.,  0.,  0.],\n",
       "       ..., \n",
       "       [ 0.,  0.,  0., ...,  0.,  0.,  0.],\n",
       "       [ 0.,  0.,  0., ...,  0.,  0.,  0.],\n",
       "       [ 0.,  0.,  0., ...,  0.,  0.,  0.]])"
      ]
     },
     "execution_count": 3,
     "metadata": {},
     "output_type": "execute_result"
    }
   ],
   "source": [
    "resize(im,(100,100),mode='reflect')"
   ]
  },
  {
   "cell_type": "code",
   "execution_count": 4,
   "metadata": {},
   "outputs": [],
   "source": [
    "results = pd.read_csv('results_clean.csv')"
   ]
  },
  {
   "cell_type": "code",
   "execution_count": 5,
   "metadata": {},
   "outputs": [
    {
     "data": {
      "text/html": [
       "<div>\n",
       "<style scoped>\n",
       "    .dataframe tbody tr th:only-of-type {\n",
       "        vertical-align: middle;\n",
       "    }\n",
       "\n",
       "    .dataframe tbody tr th {\n",
       "        vertical-align: top;\n",
       "    }\n",
       "\n",
       "    .dataframe thead th {\n",
       "        text-align: right;\n",
       "    }\n",
       "</style>\n",
       "<table border=\"1\" class=\"dataframe\">\n",
       "  <thead>\n",
       "    <tr style=\"text-align: right;\">\n",
       "      <th></th>\n",
       "      <th>id</th>\n",
       "      <th>tissue</th>\n",
       "      <th>anomaly</th>\n",
       "      <th>severity</th>\n",
       "      <th>x_abnorm</th>\n",
       "      <th>y_abnorm</th>\n",
       "      <th>abn_radius</th>\n",
       "    </tr>\n",
       "  </thead>\n",
       "  <tbody>\n",
       "    <tr>\n",
       "      <th>0</th>\n",
       "      <td>mdb001</td>\n",
       "      <td>G</td>\n",
       "      <td>CIRC</td>\n",
       "      <td>1</td>\n",
       "      <td>535</td>\n",
       "      <td>425</td>\n",
       "      <td>197.0</td>\n",
       "    </tr>\n",
       "    <tr>\n",
       "      <th>1</th>\n",
       "      <td>mdb002</td>\n",
       "      <td>G</td>\n",
       "      <td>CIRC</td>\n",
       "      <td>1</td>\n",
       "      <td>522</td>\n",
       "      <td>280</td>\n",
       "      <td>69.0</td>\n",
       "    </tr>\n",
       "    <tr>\n",
       "      <th>2</th>\n",
       "      <td>mdb003</td>\n",
       "      <td>D</td>\n",
       "      <td>NORM</td>\n",
       "      <td>0</td>\n",
       "      <td>0</td>\n",
       "      <td>0</td>\n",
       "      <td>0.0</td>\n",
       "    </tr>\n",
       "    <tr>\n",
       "      <th>3</th>\n",
       "      <td>mdb004</td>\n",
       "      <td>D</td>\n",
       "      <td>NORM</td>\n",
       "      <td>0</td>\n",
       "      <td>0</td>\n",
       "      <td>0</td>\n",
       "      <td>0.0</td>\n",
       "    </tr>\n",
       "    <tr>\n",
       "      <th>4</th>\n",
       "      <td>mdb005</td>\n",
       "      <td>F</td>\n",
       "      <td>CIRC</td>\n",
       "      <td>1</td>\n",
       "      <td>477</td>\n",
       "      <td>133</td>\n",
       "      <td>30.0</td>\n",
       "    </tr>\n",
       "  </tbody>\n",
       "</table>\n",
       "</div>"
      ],
      "text/plain": [
       "       id tissue anomaly  severity x_abnorm y_abnorm  abn_radius\n",
       "0  mdb001      G    CIRC         1      535      425       197.0\n",
       "1  mdb002      G    CIRC         1      522      280        69.0\n",
       "2  mdb003      D    NORM         0        0        0         0.0\n",
       "3  mdb004      D    NORM         0        0        0         0.0\n",
       "4  mdb005      F    CIRC         1      477      133        30.0"
      ]
     },
     "execution_count": 5,
     "metadata": {},
     "output_type": "execute_result"
    }
   ],
   "source": [
    "results.head()"
   ]
  },
  {
   "cell_type": "code",
   "execution_count": 6,
   "metadata": {},
   "outputs": [],
   "source": [
    "path = \"images/\"\n",
    "Xlist = []\n",
    "Ylist = results['severity']\n",
    "\n",
    "new_size=(200,200)\n",
    "\n",
    "for file in os.listdir(path)[:]:\n",
    "    #print(path+file)\n",
    "    photo_data = imread(path+file) #(path+\"/\"+file)\n",
    "    photo_data = resize(photo_data,new_size,mode='reflect')\n",
    "    featurevector = np.array(photo_data)\n",
    "    Xlist.append(featurevector.flatten())\n",
    "        \n",
    "\n",
    "X = np.array(Xlist)\n",
    "Y = np.array(Ylist)"
   ]
  },
  {
   "cell_type": "code",
   "execution_count": 7,
   "metadata": {},
   "outputs": [
    {
     "data": {
      "text/plain": [
       "(322, 40000)"
      ]
     },
     "execution_count": 7,
     "metadata": {},
     "output_type": "execute_result"
    }
   ],
   "source": [
    "X.shape"
   ]
  },
  {
   "cell_type": "code",
   "execution_count": 8,
   "metadata": {},
   "outputs": [
    {
     "data": {
      "text/plain": [
       "(322,)"
      ]
     },
     "execution_count": 8,
     "metadata": {},
     "output_type": "execute_result"
    }
   ],
   "source": [
    "results.severity.shape"
   ]
  },
  {
   "cell_type": "code",
   "execution_count": 9,
   "metadata": {},
   "outputs": [
    {
     "data": {
      "text/html": [
       "<div>\n",
       "<style scoped>\n",
       "    .dataframe tbody tr th:only-of-type {\n",
       "        vertical-align: middle;\n",
       "    }\n",
       "\n",
       "    .dataframe tbody tr th {\n",
       "        vertical-align: top;\n",
       "    }\n",
       "\n",
       "    .dataframe thead th {\n",
       "        text-align: right;\n",
       "    }\n",
       "</style>\n",
       "<table border=\"1\" class=\"dataframe\">\n",
       "  <thead>\n",
       "    <tr style=\"text-align: right;\">\n",
       "      <th></th>\n",
       "      <th>id</th>\n",
       "      <th>tissue</th>\n",
       "      <th>anomaly</th>\n",
       "      <th>severity</th>\n",
       "      <th>x_abnorm</th>\n",
       "      <th>y_abnorm</th>\n",
       "      <th>abn_radius</th>\n",
       "    </tr>\n",
       "  </thead>\n",
       "  <tbody>\n",
       "    <tr>\n",
       "      <th>317</th>\n",
       "      <td>mdb318</td>\n",
       "      <td>D</td>\n",
       "      <td>NORM</td>\n",
       "      <td>0</td>\n",
       "      <td>0</td>\n",
       "      <td>0</td>\n",
       "      <td>0.0</td>\n",
       "    </tr>\n",
       "    <tr>\n",
       "      <th>318</th>\n",
       "      <td>mdb319</td>\n",
       "      <td>D</td>\n",
       "      <td>NORM</td>\n",
       "      <td>0</td>\n",
       "      <td>0</td>\n",
       "      <td>0</td>\n",
       "      <td>0.0</td>\n",
       "    </tr>\n",
       "    <tr>\n",
       "      <th>319</th>\n",
       "      <td>mdb320</td>\n",
       "      <td>D</td>\n",
       "      <td>NORM</td>\n",
       "      <td>0</td>\n",
       "      <td>0</td>\n",
       "      <td>0</td>\n",
       "      <td>0.0</td>\n",
       "    </tr>\n",
       "    <tr>\n",
       "      <th>320</th>\n",
       "      <td>mdb321</td>\n",
       "      <td>D</td>\n",
       "      <td>NORM</td>\n",
       "      <td>0</td>\n",
       "      <td>0</td>\n",
       "      <td>0</td>\n",
       "      <td>0.0</td>\n",
       "    </tr>\n",
       "    <tr>\n",
       "      <th>321</th>\n",
       "      <td>mdb322</td>\n",
       "      <td>D</td>\n",
       "      <td>NORM</td>\n",
       "      <td>0</td>\n",
       "      <td>0</td>\n",
       "      <td>0</td>\n",
       "      <td>0.0</td>\n",
       "    </tr>\n",
       "  </tbody>\n",
       "</table>\n",
       "</div>"
      ],
      "text/plain": [
       "         id tissue anomaly  severity x_abnorm y_abnorm  abn_radius\n",
       "317  mdb318      D    NORM         0        0        0         0.0\n",
       "318  mdb319      D    NORM         0        0        0         0.0\n",
       "319  mdb320      D    NORM         0        0        0         0.0\n",
       "320  mdb321      D    NORM         0        0        0         0.0\n",
       "321  mdb322      D    NORM         0        0        0         0.0"
      ]
     },
     "execution_count": 9,
     "metadata": {},
     "output_type": "execute_result"
    }
   ],
   "source": [
    "results.tail()"
   ]
  },
  {
   "cell_type": "markdown",
   "metadata": {},
   "source": [
    "## Modelling experiment 1 - Logistic Regression"
   ]
  },
  {
   "cell_type": "code",
   "execution_count": 10,
   "metadata": {},
   "outputs": [],
   "source": [
    "from sklearn.linear_model import LogisticRegression\n",
    "from sklearn.model_selection import train_test_split\n",
    "from sklearn.model_selection import cross_val_score"
   ]
  },
  {
   "cell_type": "code",
   "execution_count": 11,
   "metadata": {},
   "outputs": [
    {
     "name": "stdout",
     "output_type": "stream",
     "text": [
      "0.486157351504\n"
     ]
    }
   ],
   "source": [
    "clf = LogisticRegression(random_state=10000, \n",
    "                         solver= 'lbfgs',\n",
    "                         multi_class='multinomial',\n",
    "                         #max_iter=10000000000\n",
    "                        )\n",
    "\n",
    "scores_ac = cross_val_score(clf, X, Y,cv=10,scoring='accuracy')\n",
    "\n",
    "print(scores_ac.mean())"
   ]
  },
  {
   "cell_type": "code",
   "execution_count": null,
   "metadata": {},
   "outputs": [],
   "source": [
    "scores_auc = cross_val_score(clf, X, Y,cv=10,scoring='recall')\n",
    "\n",
    "print(scores_auc.mean())"
   ]
  },
  {
   "cell_type": "code",
   "execution_count": null,
   "metadata": {},
   "outputs": [],
   "source": [
    "scores_precision = cross_val_score(clf, X, Y,cv=10,scoring='precision')\n",
    "\n",
    "print(scores_precision.mean())"
   ]
  },
  {
   "cell_type": "code",
   "execution_count": 12,
   "metadata": {},
   "outputs": [
    {
     "data": {
      "text/plain": [
       "LogisticRegression(C=1.0, class_weight=None, dual=False, fit_intercept=True,\n",
       "          intercept_scaling=1, max_iter=100, multi_class='multinomial',\n",
       "          n_jobs=1, penalty='l2', random_state=10000, solver='lbfgs',\n",
       "          tol=0.0001, verbose=0, warm_start=False)"
      ]
     },
     "execution_count": 12,
     "metadata": {},
     "output_type": "execute_result"
    }
   ],
   "source": [
    "# Running tests in a single fit model:\n",
    "\n",
    "clf2 = LogisticRegression(random_state=10000, \n",
    "                         solver='lbfgs',\n",
    "                         multi_class='multinomial',\n",
    "                         #max_iter=10000000000\n",
    "                         )\n",
    "\n",
    "X_train,X_test,Y_train,Y_test = train_test_split(X,Y,test_size=0.3,random_state=1000)\n",
    "clf2.fit(X_train,Y_train)"
   ]
  },
  {
   "cell_type": "code",
   "execution_count": 13,
   "metadata": {},
   "outputs": [
    {
     "name": "stdout",
     "output_type": "stream",
     "text": [
      "final train score: 1.0\n",
      "final test score: 0.567010309278\n"
     ]
    }
   ],
   "source": [
    "y0_pred = clf2.predict(X_test)\n",
    " \n",
    "print('final train score:',clf2.score(X_train,Y_train))\n",
    "print('final test score:',clf2.score(X_test,Y_test))"
   ]
  },
  {
   "cell_type": "code",
   "execution_count": 15,
   "metadata": {},
   "outputs": [
    {
     "data": {
      "image/png": "[encoded data removed]",
      "text/plain": [
       "<Figure size 432x288 with 2 Axes>"
      ]
     },
     "metadata": {},
     "output_type": "display_data"
    },
    {
     "name": "stdout",
     "output_type": "stream",
     "text": [
      "true positives: 4\n",
      "true negatives: 47\n",
      "false positives: 14\n",
      "false negatives: 13\n",
      "precision: 0.222222222222\n",
      "sensitivity: 0.235294117647\n",
      "specificity: 0.770491803279\n"
     ]
    }
   ],
   "source": [
    "# Plotting confusion matrix\n",
    "from sklearn.metrics import confusion_matrix\n",
    "import seaborn as sns\n",
    "\n",
    "labels = ['normal', 'benign','malignant']\n",
    "\n",
    "conf_mat = confusion_matrix(y_true = Y_test,\n",
    "                       y_pred = y0_pred)\n",
    "\n",
    "#print(conf_mat)\n",
    "\n",
    "cm = confusion_matrix(y_true = Y_test,\n",
    "                      y_pred = y0_pred)\n",
    "\n",
    "\n",
    "sns.heatmap(cm,\n",
    "            annot = True,\n",
    "            xticklabels = labels,\n",
    "            yticklabels = labels,\n",
    "            cmap = 'Blues')\n",
    "\n",
    "\n",
    "plt.xlabel('Actual')\n",
    "plt.ylabel('Predicted')\n",
    "plt.title('Confusion matrix of the classifier')\n",
    "plt.show()\n",
    "\n",
    "# Plotting more model metrics:\n",
    "print('true positives:',conf_mat[1,1])\n",
    "print('true negatives:',conf_mat[0,0])\n",
    "print('false positives:',conf_mat[0,1])\n",
    "print('false negatives:',conf_mat[1,0])\n",
    "print('precision:',(conf_mat[1,1]/(conf_mat[1,1]+conf_mat[0,1])))\n",
    "print('sensitivity:',(conf_mat[1,1]/(conf_mat[1,1]+conf_mat[1,0])))\n",
    "print('specificity:',(conf_mat[0,0]/(conf_mat[0,0]+conf_mat[0,1])))"
   ]
  },
  {
   "cell_type": "code",
   "execution_count": null,
   "metadata": {},
   "outputs": [],
   "source": []
  }
 ],
 "metadata": {
  "kernelspec": {
   "display_name": "Python 3",
   "language": "python",
   "name": "python3"
  },
  "language_info": {
   "codemirror_mode": {
    "name": "ipython",
    "version": 3
   },
   "file_extension": ".py",
   "mimetype": "text/x-python",
   "name": "python",
   "nbconvert_exporter": "python",
   "pygments_lexer": "ipython3",
   "version": "3.6.5"
  }
 },
 "nbformat": 4,
 "nbformat_minor": 2
}
